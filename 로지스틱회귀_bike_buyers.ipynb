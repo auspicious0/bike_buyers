{
  "cells": [
    {
      "cell_type": "markdown",
      "metadata": {
        "id": "view-in-github",
        "colab_type": "text"
      },
      "source": [
        "<a href=\"https://colab.research.google.com/github/auspicious0/bike_buyers/blob/main/%EB%A1%9C%EC%A7%80%EC%8A%A4%ED%8B%B1%ED%9A%8C%EA%B7%80_bike_buyers.ipynb\" target=\"_parent\"><img src=\"https://colab.research.google.com/assets/colab-badge.svg\" alt=\"Open In Colab\"/></a>"
      ]
    },
    {
      "cell_type": "code",
      "source": [
        "#https://drive.google.com/file/d/1jG1BdFg3hrSqrRIWdJuLy_8y1zvIMPvJ/view?usp=sharing\n",
        "#https://www.kaggle.com/datasets/heeraldedhia/bike-buyers\n",
        "#자전거 구매자 정보를 바탕으로 자전거 사는 것에 대한 로지스틱 회귀를 수행하려 한다.\n",
        "system(\"gdown --id 1jG1BdFg3hrSqrRIWdJuLy_8y1zvIMPvJ\")\n",
        "system(\"ls\",TRUE)\n"
      ],
      "metadata": {
        "colab": {
          "base_uri": "https://localhost:8080/",
          "height": 34
        },
        "id": "wgRV8iRZqXB2",
        "outputId": "1b433958-01c7-40fc-b996-9c7536c45798"
      },
      "execution_count": null,
      "outputs": [
        {
          "output_type": "display_data",
          "data": {
            "text/html": [
              "<style>\n",
              ".list-inline {list-style: none; margin:0; padding: 0}\n",
              ".list-inline>li {display: inline-block}\n",
              ".list-inline>li:not(:last-child)::after {content: \"\\00b7\"; padding: 0 .5ex}\n",
              "</style>\n",
              "<ol class=list-inline><li>'bike_buyers.csv'</li><li>'depression_anxiety_data.csv'</li><li>'sample_data'</li></ol>\n"
            ],
            "text/markdown": "1. 'bike_buyers.csv'\n2. 'depression_anxiety_data.csv'\n3. 'sample_data'\n\n\n",
            "text/latex": "\\begin{enumerate*}\n\\item 'bike\\_buyers.csv'\n\\item 'depression\\_anxiety\\_data.csv'\n\\item 'sample\\_data'\n\\end{enumerate*}\n",
            "text/plain": [
              "[1] \"bike_buyers.csv\"             \"depression_anxiety_data.csv\"\n",
              "[3] \"sample_data\"                "
            ]
          },
          "metadata": {}
        }
      ]
    },
    {
      "cell_type": "code",
      "source": [
        "DF<-fread(\"bike_buyers.csv\",header=T,encoding=\"UTF-8\")%>%as_tibble()\n",
        "DF%>%show()"
      ],
      "metadata": {
        "colab": {
          "base_uri": "https://localhost:8080/"
        },
        "id": "FAxOngPlqSr0",
        "outputId": "61f76622-05f8-4778-ed09-8b90afcb52bd"
      },
      "execution_count": null,
      "outputs": [
        {
          "output_type": "stream",
          "name": "stdout",
          "text": [
            "\u001b[90m# A tibble: 1,000 × 13\u001b[39m\n",
            "      ID `Marital Status` Gender   Income Children Education          Occupation\n",
            "   \u001b[3m\u001b[90m<int>\u001b[39m\u001b[23m \u001b[3m\u001b[90m<chr>\u001b[39m\u001b[23m            \u001b[3m\u001b[90m<chr>\u001b[39m\u001b[23m     \u001b[3m\u001b[90m<int>\u001b[39m\u001b[23m    \u001b[3m\u001b[90m<int>\u001b[39m\u001b[23m \u001b[3m\u001b[90m<chr>\u001b[39m\u001b[23m              \u001b[3m\u001b[90m<chr>\u001b[39m\u001b[23m     \n",
            "\u001b[90m 1\u001b[39m \u001b[4m1\u001b[24m\u001b[4m2\u001b[24m496 \u001b[90m\"\u001b[39mMarried\u001b[90m\"\u001b[39m        \u001b[90m\"\u001b[39mFemale\u001b[90m\"\u001b[39m  \u001b[4m4\u001b[24m\u001b[4m0\u001b[24m000        1 Bachelors          Skilled M…\n",
            "\u001b[90m 2\u001b[39m \u001b[4m2\u001b[24m\u001b[4m4\u001b[24m107 \u001b[90m\"\u001b[39mMarried\u001b[90m\"\u001b[39m        \u001b[90m\"\u001b[39mMale\u001b[90m\"\u001b[39m    \u001b[4m3\u001b[24m\u001b[4m0\u001b[24m000        3 Partial College    Clerical  \n",
            "\u001b[90m 3\u001b[39m \u001b[4m1\u001b[24m\u001b[4m4\u001b[24m177 \u001b[90m\"\u001b[39mMarried\u001b[90m\"\u001b[39m        \u001b[90m\"\u001b[39mMale\u001b[90m\"\u001b[39m    \u001b[4m8\u001b[24m\u001b[4m0\u001b[24m000        5 Partial College    Professio…\n",
            "\u001b[90m 4\u001b[39m \u001b[4m2\u001b[24m\u001b[4m4\u001b[24m381 \u001b[90m\"\u001b[39mSingle\u001b[90m\"\u001b[39m         \u001b[90m\"\u001b[39m\u001b[90m\"\u001b[39m        \u001b[4m7\u001b[24m\u001b[4m0\u001b[24m000        0 Bachelors          Professio…\n",
            "\u001b[90m 5\u001b[39m \u001b[4m2\u001b[24m\u001b[4m5\u001b[24m597 \u001b[90m\"\u001b[39mSingle\u001b[90m\"\u001b[39m         \u001b[90m\"\u001b[39mMale\u001b[90m\"\u001b[39m    \u001b[4m3\u001b[24m\u001b[4m0\u001b[24m000        0 Bachelors          Clerical  \n",
            "\u001b[90m 6\u001b[39m \u001b[4m1\u001b[24m\u001b[4m3\u001b[24m507 \u001b[90m\"\u001b[39mMarried\u001b[90m\"\u001b[39m        \u001b[90m\"\u001b[39mFemale\u001b[90m\"\u001b[39m  \u001b[4m1\u001b[24m\u001b[4m0\u001b[24m000        2 Partial College    Manual    \n",
            "\u001b[90m 7\u001b[39m \u001b[4m2\u001b[24m\u001b[4m7\u001b[24m974 \u001b[90m\"\u001b[39mSingle\u001b[90m\"\u001b[39m         \u001b[90m\"\u001b[39mMale\u001b[90m\"\u001b[39m   \u001b[4m1\u001b[24m\u001b[4m6\u001b[24m\u001b[4m0\u001b[24m000        2 High School        Management\n",
            "\u001b[90m 8\u001b[39m \u001b[4m1\u001b[24m\u001b[4m9\u001b[24m364 \u001b[90m\"\u001b[39mMarried\u001b[90m\"\u001b[39m        \u001b[90m\"\u001b[39mMale\u001b[90m\"\u001b[39m    \u001b[4m4\u001b[24m\u001b[4m0\u001b[24m000        1 Bachelors          Skilled M…\n",
            "\u001b[90m 9\u001b[39m \u001b[4m2\u001b[24m\u001b[4m2\u001b[24m155 \u001b[90m\"\u001b[39m\u001b[90m\"\u001b[39m               \u001b[90m\"\u001b[39mMale\u001b[90m\"\u001b[39m    \u001b[4m2\u001b[24m\u001b[4m0\u001b[24m000        2 Partial High Scho… Clerical  \n",
            "\u001b[90m10\u001b[39m \u001b[4m1\u001b[24m\u001b[4m9\u001b[24m280 \u001b[90m\"\u001b[39mMarried\u001b[90m\"\u001b[39m        \u001b[90m\"\u001b[39mMale\u001b[90m\"\u001b[39m       \u001b[31mNA\u001b[39m        2 Partial College    Manual    \n",
            "\u001b[90m# ℹ 990 more rows\u001b[39m\n",
            "\u001b[90m# ℹ 6 more variables: `Home Owner` <chr>, Cars <int>, `Commute Distance` <chr>,\u001b[39m\n",
            "\u001b[90m#   Region <chr>, Age <int>, `Purchased Bike` <chr>\u001b[39m\n"
          ]
        }
      ]
    },
    {
      "cell_type": "code",
      "source": [
        "DF%>%str()"
      ],
      "metadata": {
        "colab": {
          "base_uri": "https://localhost:8080/"
        },
        "id": "9NHfvi7yuI3D",
        "outputId": "f07736cf-34ba-4d82-bb7c-615f3630453f"
      },
      "execution_count": null,
      "outputs": [
        {
          "output_type": "stream",
          "name": "stdout",
          "text": [
            "tibble [1,000 × 13] (S3: tbl_df/tbl/data.frame)\n",
            " $ ID              : int [1:1000] 12496 24107 14177 24381 25597 13507 27974 19364 22155 19280 ...\n",
            " $ Marital Status  : chr [1:1000] \"Married\" \"Married\" \"Married\" \"Single\" ...\n",
            " $ Gender          : chr [1:1000] \"Female\" \"Male\" \"Male\" \"\" ...\n",
            " $ Income          : int [1:1000] 40000 30000 80000 70000 30000 10000 160000 40000 20000 NA ...\n",
            " $ Children        : int [1:1000] 1 3 5 0 0 2 2 1 2 2 ...\n",
            " $ Education       : chr [1:1000] \"Bachelors\" \"Partial College\" \"Partial College\" \"Bachelors\" ...\n",
            " $ Occupation      : chr [1:1000] \"Skilled Manual\" \"Clerical\" \"Professional\" \"Professional\" ...\n",
            " $ Home Owner      : chr [1:1000] \"Yes\" \"Yes\" \"No\" \"Yes\" ...\n",
            " $ Cars            : int [1:1000] 0 1 2 1 0 0 4 0 2 1 ...\n",
            " $ Commute Distance: chr [1:1000] \"0-1 Miles\" \"0-1 Miles\" \"2-5 Miles\" \"5-10 Miles\" ...\n",
            " $ Region          : chr [1:1000] \"Europe\" \"Europe\" \"Europe\" \"Pacific\" ...\n",
            " $ Age             : int [1:1000] 42 43 60 41 36 50 33 43 58 NA ...\n",
            " $ Purchased Bike  : chr [1:1000] \"No\" \"No\" \"No\" \"Yes\" ...\n",
            " - attr(*, \".internal.selfref\")=<externalptr> \n"
          ]
        }
      ]
    },
    {
      "cell_type": "code",
      "source": [
        "DF$`Marital Status` %>%unique()\n",
        "DF$Gender %>% unique()\n",
        "DF$Education %>% unique()\n",
        "DF$Occupation %>% unique()\n",
        "DF$`Home Owner` %>% unique()\n",
        "DF$Region %>% unique()\n",
        "DF$`Purchased Bike` %>% unique()\n"
      ],
      "metadata": {
        "colab": {
          "base_uri": "https://localhost:8080/",
          "height": 138
        },
        "id": "U43j09cfuPu2",
        "outputId": "364d5ffc-7f62-4a32-eb45-2df562f2a4d4"
      },
      "execution_count": null,
      "outputs": [
        {
          "output_type": "display_data",
          "data": {
            "text/html": [
              "<style>\n",
              ".list-inline {list-style: none; margin:0; padding: 0}\n",
              ".list-inline>li {display: inline-block}\n",
              ".list-inline>li:not(:last-child)::after {content: \"\\00b7\"; padding: 0 .5ex}\n",
              "</style>\n",
              "<ol class=list-inline><li>'Married'</li><li>'Single'</li><li>''</li></ol>\n"
            ],
            "text/markdown": "1. 'Married'\n2. 'Single'\n3. ''\n\n\n",
            "text/latex": "\\begin{enumerate*}\n\\item 'Married'\n\\item 'Single'\n\\item ''\n\\end{enumerate*}\n",
            "text/plain": [
              "[1] \"Married\" \"Single\"  \"\"       "
            ]
          },
          "metadata": {}
        },
        {
          "output_type": "display_data",
          "data": {
            "text/html": [
              "<style>\n",
              ".list-inline {list-style: none; margin:0; padding: 0}\n",
              ".list-inline>li {display: inline-block}\n",
              ".list-inline>li:not(:last-child)::after {content: \"\\00b7\"; padding: 0 .5ex}\n",
              "</style>\n",
              "<ol class=list-inline><li>'Female'</li><li>'Male'</li><li>''</li></ol>\n"
            ],
            "text/markdown": "1. 'Female'\n2. 'Male'\n3. ''\n\n\n",
            "text/latex": "\\begin{enumerate*}\n\\item 'Female'\n\\item 'Male'\n\\item ''\n\\end{enumerate*}\n",
            "text/plain": [
              "[1] \"Female\" \"Male\"   \"\"      "
            ]
          },
          "metadata": {}
        },
        {
          "output_type": "display_data",
          "data": {
            "text/html": [
              "<style>\n",
              ".list-inline {list-style: none; margin:0; padding: 0}\n",
              ".list-inline>li {display: inline-block}\n",
              ".list-inline>li:not(:last-child)::after {content: \"\\00b7\"; padding: 0 .5ex}\n",
              "</style>\n",
              "<ol class=list-inline><li>'Bachelors'</li><li>'Partial College'</li><li>'High School'</li><li>'Partial High School'</li><li>'Graduate Degree'</li></ol>\n"
            ],
            "text/markdown": "1. 'Bachelors'\n2. 'Partial College'\n3. 'High School'\n4. 'Partial High School'\n5. 'Graduate Degree'\n\n\n",
            "text/latex": "\\begin{enumerate*}\n\\item 'Bachelors'\n\\item 'Partial College'\n\\item 'High School'\n\\item 'Partial High School'\n\\item 'Graduate Degree'\n\\end{enumerate*}\n",
            "text/plain": [
              "[1] \"Bachelors\"           \"Partial College\"     \"High School\"        \n",
              "[4] \"Partial High School\" \"Graduate Degree\"    "
            ]
          },
          "metadata": {}
        },
        {
          "output_type": "display_data",
          "data": {
            "text/html": [
              "<style>\n",
              ".list-inline {list-style: none; margin:0; padding: 0}\n",
              ".list-inline>li {display: inline-block}\n",
              ".list-inline>li:not(:last-child)::after {content: \"\\00b7\"; padding: 0 .5ex}\n",
              "</style>\n",
              "<ol class=list-inline><li>'Skilled Manual'</li><li>'Clerical'</li><li>'Professional'</li><li>'Manual'</li><li>'Management'</li></ol>\n"
            ],
            "text/markdown": "1. 'Skilled Manual'\n2. 'Clerical'\n3. 'Professional'\n4. 'Manual'\n5. 'Management'\n\n\n",
            "text/latex": "\\begin{enumerate*}\n\\item 'Skilled Manual'\n\\item 'Clerical'\n\\item 'Professional'\n\\item 'Manual'\n\\item 'Management'\n\\end{enumerate*}\n",
            "text/plain": [
              "[1] \"Skilled Manual\" \"Clerical\"       \"Professional\"   \"Manual\"        \n",
              "[5] \"Management\"    "
            ]
          },
          "metadata": {}
        },
        {
          "output_type": "display_data",
          "data": {
            "text/html": [
              "<style>\n",
              ".list-inline {list-style: none; margin:0; padding: 0}\n",
              ".list-inline>li {display: inline-block}\n",
              ".list-inline>li:not(:last-child)::after {content: \"\\00b7\"; padding: 0 .5ex}\n",
              "</style>\n",
              "<ol class=list-inline><li>'Yes'</li><li>'No'</li><li>''</li></ol>\n"
            ],
            "text/markdown": "1. 'Yes'\n2. 'No'\n3. ''\n\n\n",
            "text/latex": "\\begin{enumerate*}\n\\item 'Yes'\n\\item 'No'\n\\item ''\n\\end{enumerate*}\n",
            "text/plain": [
              "[1] \"Yes\" \"No\"  \"\"   "
            ]
          },
          "metadata": {}
        },
        {
          "output_type": "display_data",
          "data": {
            "text/html": [
              "<style>\n",
              ".list-inline {list-style: none; margin:0; padding: 0}\n",
              ".list-inline>li {display: inline-block}\n",
              ".list-inline>li:not(:last-child)::after {content: \"\\00b7\"; padding: 0 .5ex}\n",
              "</style>\n",
              "<ol class=list-inline><li>'Europe'</li><li>'Pacific'</li><li>'North America'</li></ol>\n"
            ],
            "text/markdown": "1. 'Europe'\n2. 'Pacific'\n3. 'North America'\n\n\n",
            "text/latex": "\\begin{enumerate*}\n\\item 'Europe'\n\\item 'Pacific'\n\\item 'North America'\n\\end{enumerate*}\n",
            "text/plain": [
              "[1] \"Europe\"        \"Pacific\"       \"North America\""
            ]
          },
          "metadata": {}
        },
        {
          "output_type": "display_data",
          "data": {
            "text/html": [
              "<style>\n",
              ".list-inline {list-style: none; margin:0; padding: 0}\n",
              ".list-inline>li {display: inline-block}\n",
              ".list-inline>li:not(:last-child)::after {content: \"\\00b7\"; padding: 0 .5ex}\n",
              "</style>\n",
              "<ol class=list-inline><li>'No'</li><li>'Yes'</li></ol>\n"
            ],
            "text/markdown": "1. 'No'\n2. 'Yes'\n\n\n",
            "text/latex": "\\begin{enumerate*}\n\\item 'No'\n\\item 'Yes'\n\\end{enumerate*}\n",
            "text/plain": [
              "[1] \"No\"  \"Yes\""
            ]
          },
          "metadata": {}
        }
      ]
    },
    {
      "cell_type": "markdown",
      "source": [
        "위 값을 factor로 변경, id 값을 삭제\n"
      ],
      "metadata": {
        "id": "s5Mjn2sCvZMX"
      }
    },
    {
      "cell_type": "code",
      "source": [
        "DF<-select(DF,-ID)%>%\n",
        "  mutate_at(c(\"Marital Status\",\"Gender\",\"Education\",\"Occupation\",\"Home Owner\",\"Region\",\"Purchased Bike\"),factor)"
      ],
      "metadata": {
        "id": "E0kdFC7Ju2C2"
      },
      "execution_count": null,
      "outputs": []
    },
    {
      "cell_type": "code",
      "source": [
        "\n",
        "DF %>% str()\n",
        "DF %>% show()\n"
      ],
      "metadata": {
        "colab": {
          "base_uri": "https://localhost:8080/"
        },
        "id": "nKAHyK4JwCPf",
        "outputId": "6a95466f-c942-4390-dc92-aec92f9d496c"
      },
      "execution_count": null,
      "outputs": [
        {
          "output_type": "stream",
          "name": "stdout",
          "text": [
            "tibble [889 × 12] (S3: tbl_df/tbl/data.frame)\n",
            " $ Marital Status  : Factor w/ 2 levels \"Married\",\"Single\": 1 1 1 2 1 1 1 1 2 2 ...\n",
            " $ Gender          : Factor w/ 2 levels \"Female\",\"Male\": 1 2 2 2 1 2 1 2 2 1 ...\n",
            " $ Income          : int [1:889] 40000 30000 80000 30000 10000 40000 30000 40000 60000 10000 ...\n",
            " $ Children        : int [1:889] 1 3 5 0 2 1 3 2 1 2 ...\n",
            " $ Education       : Factor w/ 5 levels \"Bachelors\",\"Graduate Degree\",..: 1 4 4 1 4 1 3 4 4 3 ...\n",
            " $ Occupation      : Factor w/ 5 levels \"Clerical\",\"Management\",..: 5 1 4 1 3 5 5 1 5 3 ...\n",
            " $ Home Owner      : Factor w/ 2 levels \"No\",\"Yes\": 2 2 1 1 2 2 1 2 1 2 ...\n",
            " $ Cars            : int [1:889] 0 1 2 0 0 0 2 1 1 1 ...\n",
            " $ Commute Distance: chr [1:889] \"0-1 Miles\" \"0-1 Miles\" \"2-5 Miles\" \"0-1 Miles\" ...\n",
            " $ Region          : Factor w/ 3 levels \"Europe\",\"North America\",..: 1 1 1 1 1 1 3 1 3 1 ...\n",
            " $ Age             : int [1:889] 42 43 60 36 50 43 54 35 45 38 ...\n",
            " $ Purchased Bike  : Factor w/ 2 levels \"No\",\"Yes\": 1 1 1 2 1 2 2 2 2 2 ...\n",
            " - attr(*, \".internal.selfref\")=<externalptr> \n",
            " - attr(*, \"na.action\")= 'omit' Named int [1:63] 8 17 38 45 51 64 66 69 81 112 ...\n",
            "  ..- attr(*, \"names\")= chr [1:63] \"8\" \"17\" \"38\" \"45\" ...\n",
            "\u001b[90m# A tibble: 889 × 12\u001b[39m\n",
            "   `Marital Status` Gender Income Children Education     Occupation `Home Owner`\n",
            "   \u001b[3m\u001b[90m<fct>\u001b[39m\u001b[23m            \u001b[3m\u001b[90m<fct>\u001b[39m\u001b[23m   \u001b[3m\u001b[90m<int>\u001b[39m\u001b[23m    \u001b[3m\u001b[90m<int>\u001b[39m\u001b[23m \u001b[3m\u001b[90m<fct>\u001b[39m\u001b[23m         \u001b[3m\u001b[90m<fct>\u001b[39m\u001b[23m      \u001b[3m\u001b[90m<fct>\u001b[39m\u001b[23m       \n",
            "\u001b[90m 1\u001b[39m Married          Female  \u001b[4m4\u001b[24m\u001b[4m0\u001b[24m000        1 Bachelors     Skilled M… Yes         \n",
            "\u001b[90m 2\u001b[39m Married          Male    \u001b[4m3\u001b[24m\u001b[4m0\u001b[24m000        3 Partial Coll… Clerical   Yes         \n",
            "\u001b[90m 3\u001b[39m Married          Male    \u001b[4m8\u001b[24m\u001b[4m0\u001b[24m000        5 Partial Coll… Professio… No          \n",
            "\u001b[90m 4\u001b[39m Single           Male    \u001b[4m3\u001b[24m\u001b[4m0\u001b[24m000        0 Bachelors     Clerical   No          \n",
            "\u001b[90m 5\u001b[39m Married          Female  \u001b[4m1\u001b[24m\u001b[4m0\u001b[24m000        2 Partial Coll… Manual     Yes         \n",
            "\u001b[90m 6\u001b[39m Married          Male    \u001b[4m4\u001b[24m\u001b[4m0\u001b[24m000        1 Bachelors     Skilled M… Yes         \n",
            "\u001b[90m 7\u001b[39m Married          Female  \u001b[4m3\u001b[24m\u001b[4m0\u001b[24m000        3 High School   Skilled M… No          \n",
            "\u001b[90m 8\u001b[39m Married          Male    \u001b[4m4\u001b[24m\u001b[4m0\u001b[24m000        2 Partial Coll… Clerical   Yes         \n",
            "\u001b[90m 9\u001b[39m Single           Male    \u001b[4m6\u001b[24m\u001b[4m0\u001b[24m000        1 Partial Coll… Skilled M… No          \n",
            "\u001b[90m10\u001b[39m Single           Female  \u001b[4m1\u001b[24m\u001b[4m0\u001b[24m000        2 High School   Manual     Yes         \n",
            "\u001b[90m# ℹ 879 more rows\u001b[39m\n",
            "\u001b[90m# ℹ 5 more variables: Cars <int>, `Commute Distance` <chr>, Region <fct>,\u001b[39m\n",
            "\u001b[90m#   Age <int>, `Purchased Bike` <fct>\u001b[39m\n"
          ]
        }
      ]
    },
    {
      "cell_type": "code",
      "source": [
        "#결측값 및 이상값 확인\n",
        "DF %>% summary()\n",
        "boxplot(DF$Income,DF$Children,DF$Cars,DF$Age)\n",
        "table(is.na(DF))"
      ],
      "metadata": {
        "colab": {
          "base_uri": "https://localhost:8080/",
          "height": 927
        },
        "id": "jrW6dI9kxNVM",
        "outputId": "95901161-bea8-4b9f-955d-3d4f658e9a18"
      },
      "execution_count": null,
      "outputs": [
        {
          "output_type": "display_data",
          "data": {
            "text/plain": [
              " Marital Status    Gender        Income          Children   \n",
              "        :  7          : 11   Min.   : 10000   Min.   :0.00  \n",
              " Married:535    Female:489   1st Qu.: 30000   1st Qu.:0.00  \n",
              " Single :458    Male  :500   Median : 60000   Median :2.00  \n",
              "                             Mean   : 56268   Mean   :1.91  \n",
              "                             3rd Qu.: 70000   3rd Qu.:3.00  \n",
              "                             Max.   :170000   Max.   :5.00  \n",
              "                             NA's   :6        NA's   :8     \n",
              "               Education            Occupation  Home Owner      Cars      \n",
              " Bachelors          :306   Clerical      :177      :  4    Min.   :0.000  \n",
              " Graduate Degree    :174   Management    :173   No :314    1st Qu.:1.000  \n",
              " High School        :179   Manual        :119   Yes:682    Median :1.000  \n",
              " Partial College    :265   Professional  :276              Mean   :1.455  \n",
              " Partial High School: 76   Skilled Manual:255              3rd Qu.:2.000  \n",
              "                                                           Max.   :4.000  \n",
              "                                                           NA's   :9      \n",
              " Commute Distance             Region         Age        Purchased Bike\n",
              " Length:1000        Europe       :300   Min.   :25.00   No :519       \n",
              " Class :character   North America:508   1st Qu.:35.00   Yes:481       \n",
              " Mode  :character   Pacific      :192   Median :43.00                 \n",
              "                                        Mean   :44.18                 \n",
              "                                        3rd Qu.:52.00                 \n",
              "                                        Max.   :89.00                 \n",
              "                                        NA's   :8                     "
            ]
          },
          "metadata": {}
        },
        {
          "output_type": "display_data",
          "data": {
            "text/plain": [
              "\n",
              "FALSE  TRUE \n",
              "11969    31 "
            ]
          },
          "metadata": {}
        },
        {
          "output_type": "display_data",
          "data": {
            "text/plain": [
              "plot without title"
            ],
            "image/png": "[encoded data removed]"
          },
          "metadata": {
            "image/png": {
              "width": 420,
              "height": 420
            }
          }
        }
      ]
    },
    {
      "cell_type": "markdown",
      "source": [
        "전체 데이터 중 na는 매우 작은 양으로 삭제하도록 하겠습니다.\n",
        "또 박스플롯 결과 이상값이 존재하므로 이상값 처리를 하겠습니다."
      ],
      "metadata": {
        "id": "XoSpLYChyMZD"
      }
    },
    {
      "cell_type": "code",
      "source": [
        "DF <- na.omit(DF)\n",
        "\n",
        "# 이상치 및 결측값 처리 함수\n",
        "calculate_outliers <- function(data, column_name) {\n",
        "  iqr_value <- IQR(data[[column_name]])\n",
        "  upper_limit <- quantile(data[[column_name]], 0.75) + 1.5 * iqr_value\n",
        "  lower_limit <- quantile(data[[column_name]], 0.25) - 1.5 * iqr_value\n",
        "\n",
        "  data[[column_name]] <- ifelse(data[[column_name]] < lower_limit | data[[column_name]] > upper_limit, NA, data[[column_name]])\n",
        "\n",
        "  return(data)\n",
        "}\n",
        "DF <- DF %>%\n",
        "  mutate(\n",
        "    `Marital Status` = ifelse(`Marital Status` == \"\", NA, as.character(`Marital Status`)),\n",
        "    Gender = ifelse(Gender == \"\", NA, as.character(Gender)),\n",
        "    `Home Owner` = ifelse(`Home Owner` == \"\", NA, as.character(`Home Owner`))\n",
        "  ) %>%\n",
        "  drop_na()\n",
        "# 이상치 및 결측값 처리 및 결과에 대한 상자그림 그리기\n",
        "DF <- calculate_outliers(DF, \"Income\")\n",
        "DF <- calculate_outliers(DF, \"Children\")\n",
        "DF <- calculate_outliers(DF, \"Cars\")\n",
        "DF <- calculate_outliers(DF, \"Age\")\n",
        "DF <- na.omit(DF)\n",
        "boxplot(DF$Income,DF$Children,DF$Cars,DF$Age)\n",
        "\n",
        "DF %>% summary()\n",
        "table(is.na(DF))"
      ],
      "metadata": {
        "colab": {
          "base_uri": "https://localhost:8080/",
          "height": 1000
        },
        "id": "yz_WTUa2xStr",
        "outputId": "ecd29080-ccf9-4430-8932-422472a7d749"
      },
      "execution_count": null,
      "outputs": [
        {
          "output_type": "display_data",
          "data": {
            "text/plain": [
              "       ID        Marital Status        Gender              Income      \n",
              " Min.   :11000   Length:889         Length:889         Min.   : 10000  \n",
              " 1st Qu.:15372   Class :character   Class :character   1st Qu.: 30000  \n",
              " Median :19889   Mode  :character   Mode  :character   Median : 50000  \n",
              " Mean   :20067                                         Mean   : 52137  \n",
              " 3rd Qu.:24745                                         3rd Qu.: 70000  \n",
              " Max.   :29447                                         Max.   :130000  \n",
              "    Children      Education          Occupation         Home Owner       \n",
              " Min.   :0.000   Length:889         Length:889         Length:889        \n",
              " 1st Qu.:0.000   Class :character   Class :character   Class :character  \n",
              " Median :2.000   Mode  :character   Mode  :character   Mode  :character  \n",
              " Mean   :1.856                                                           \n",
              " 3rd Qu.:3.000                                                           \n",
              " Max.   :5.000                                                           \n",
              "      Cars       Commute Distance      Region               Age       \n",
              " Min.   :0.000   Length:889         Length:889         Min.   :25.00  \n",
              " 1st Qu.:0.000   Class :character   Class :character   1st Qu.:35.00  \n",
              " Median :1.000   Mode  :character   Mode  :character   Median :43.00  \n",
              " Mean   :1.292                                         Mean   :44.01  \n",
              " 3rd Qu.:2.000                                         3rd Qu.:52.00  \n",
              " Max.   :3.000                                         Max.   :73.00  \n",
              " Purchased Bike    \n",
              " Length:889        \n",
              " Class :character  \n",
              " Mode  :character  \n",
              "                   \n",
              "                   \n",
              "                   "
            ]
          },
          "metadata": {}
        },
        {
          "output_type": "display_data",
          "data": {
            "text/plain": [
              "\n",
              "FALSE \n",
              "11557 "
            ]
          },
          "metadata": {}
        },
        {
          "output_type": "display_data",
          "data": {
            "text/plain": [
              "plot without title"
            ],
            "image/png": "[encoded data removed]"
          },
          "metadata": {
            "image/png": {
              "width": 420,
              "height": 420
            }
          }
        }
      ]
    },
    {
      "cell_type": "markdown",
      "source": [
        "숫자 데이터의 이상값 및 결측값 처리가 완료되었습니다."
      ],
      "metadata": {
        "id": "HiIoEiRNzCAO"
      }
    },
    {
      "cell_type": "code",
      "source": [
        "#카이제곱 검정을 통해 factor데이터와  연관관계를 분석\n",
        "install.packages(\"gmodels\")\n"
      ],
      "metadata": {
        "colab": {
          "base_uri": "https://localhost:8080/"
        },
        "id": "RoDW233Wyq3S",
        "outputId": "f2450995-bc8f-4bbe-c029-89e8a4e470f2"
      },
      "execution_count": null,
      "outputs": [
        {
          "output_type": "stream",
          "name": "stderr",
          "text": [
            "Installing package into ‘/usr/local/lib/R/site-library’\n",
            "(as ‘lib’ is unspecified)\n",
            "\n",
            "also installing the dependencies ‘gtools’, ‘gdata’\n",
            "\n",
            "\n"
          ]
        }
      ]
    },
    {
      "cell_type": "code",
      "source": [
        "print(\"자전거(anxiousness)와 결혼(Marital Status)와의 연관관계 분석 \")\n",
        "gmodels::CrossTable(DF$`Purchased Bike`,DF$`Marital Status`,chisq=T,expected=T,prop.r=F,prop.c=F)"
      ],
      "metadata": {
        "colab": {
          "base_uri": "https://localhost:8080/"
        },
        "id": "Q77LsqHg0NKo",
        "outputId": "e676b5d8-0b37-414e-fe15-ba39aca3cf6a"
      },
      "execution_count": null,
      "outputs": [
        {
          "output_type": "stream",
          "name": "stdout",
          "text": [
            "[1] \"자전거(anxiousness)와 결혼(Marital Status)와의 연관관계 분석 \"\n",
            "\n",
            " \n",
            "   Cell Contents\n",
            "|-------------------------|\n",
            "|                       N |\n",
            "|              Expected N |\n",
            "| Chi-square contribution |\n",
            "|         N / Table Total |\n",
            "|-------------------------|\n",
            "\n",
            " \n",
            "Total Observations in Table:  889 \n",
            "\n",
            " \n",
            "                    | DF$`Marital Status` \n",
            "DF$`Purchased Bike` |   Married |    Single | Row Total | \n",
            "--------------------|-----------|-----------|-----------|\n",
            "                 No |       273 |       183 |       456 | \n",
            "                    |   246.209 |   209.791 |           | \n",
            "                    |     2.915 |     3.421 |           | \n",
            "                    |     0.307 |     0.206 |           | \n",
            "--------------------|-----------|-----------|-----------|\n",
            "                Yes |       207 |       226 |       433 | \n",
            "                    |   233.791 |   199.209 |           | \n",
            "                    |     3.070 |     3.603 |           | \n",
            "                    |     0.233 |     0.254 |           | \n",
            "--------------------|-----------|-----------|-----------|\n",
            "       Column Total |       480 |       409 |       889 | \n",
            "--------------------|-----------|-----------|-----------|\n",
            "\n",
            " \n",
            "Statistics for All Table Factors\n",
            "\n",
            "\n",
            "Pearson's Chi-squared test \n",
            "------------------------------------------------------------\n",
            "Chi^2 =  13.00944     d.f. =  1     p =  0.0003099247 \n",
            "\n",
            "Pearson's Chi-squared test with Yates' continuity correction \n",
            "------------------------------------------------------------\n",
            "Chi^2 =  12.52838     d.f. =  1     p =  0.0004008178 \n",
            "\n",
            " \n"
          ]
        }
      ]
    },
    {
      "cell_type": "markdown",
      "source": [
        "결혼한 사람은 자전거를 구매하지 않고 결혼하지 않은 사람들은 자전거를 구매함이 명확히 보인다... 너무 행복하다.... 이게 바로 데이터 분석의 재미인가 너무 뭉클하기까지 하다."
      ],
      "metadata": {
        "id": "gejL-DFE3kmc"
      }
    },
    {
      "cell_type": "code",
      "source": [
        "#Marital Status Gender          Commute Distance Purchased Bike\n",
        "print(\"자전거(anxiousness)와 통근(Commute Distance)와의 연관관계 분석 \")\n",
        "gmodels::CrossTable(DF$`Purchased Bike`,DF$`Commute Distance`,chisq=T,expected=T,prop.r=F,prop.c=F)"
      ],
      "metadata": {
        "colab": {
          "base_uri": "https://localhost:8080/"
        },
        "id": "OmaNd43z0ep9",
        "outputId": "4090ef6b-9210-4bee-ba69-cd2827f75880"
      },
      "execution_count": null,
      "outputs": [
        {
          "output_type": "stream",
          "name": "stdout",
          "text": [
            "[1] \"자전거(anxiousness)와 통근(Commute Distance)와의 연관관계 분석 \"\n",
            "\n",
            " \n",
            "   Cell Contents\n",
            "|-------------------------|\n",
            "|                       N |\n",
            "|              Expected N |\n",
            "| Chi-square contribution |\n",
            "|         N / Table Total |\n",
            "|-------------------------|\n",
            "\n",
            " \n",
            "Total Observations in Table:  889 \n",
            "\n",
            " \n",
            "                    | DF$`Commute Distance` \n",
            "DF$`Purchased Bike` |  0-1 Miles |  1-2 Miles |  10+ Miles |  2-5 Miles | 5-10 Miles |  Row Total | \n",
            "--------------------|------------|------------|------------|------------|------------|------------|\n",
            "                 No |        136 |         82 |         67 |         62 |        109 |        456 | \n",
            "                    |    163.627 |     80.531 |     46.677 |     76.940 |     88.225 |            | \n",
            "                    |      4.664 |      0.027 |      8.848 |      2.901 |      4.892 |            | \n",
            "                    |      0.153 |      0.092 |      0.075 |      0.070 |      0.123 |            | \n",
            "--------------------|------------|------------|------------|------------|------------|------------|\n",
            "                Yes |        183 |         75 |         24 |         88 |         63 |        433 | \n",
            "                    |    155.373 |     76.469 |     44.323 |     73.060 |     83.775 |            | \n",
            "                    |      4.912 |      0.028 |      9.318 |      3.055 |      5.152 |            | \n",
            "                    |      0.206 |      0.084 |      0.027 |      0.099 |      0.071 |            | \n",
            "--------------------|------------|------------|------------|------------|------------|------------|\n",
            "       Column Total |        319 |        157 |         91 |        150 |        172 |        889 | \n",
            "--------------------|------------|------------|------------|------------|------------|------------|\n",
            "\n",
            " \n",
            "Statistics for All Table Factors\n",
            "\n",
            "\n",
            "Pearson's Chi-squared test \n",
            "------------------------------------------------------------\n",
            "Chi^2 =  43.79881     d.f. =  4     p =  7.063732e-09 \n",
            "\n",
            "\n",
            " \n"
          ]
        }
      ]
    },
    {
      "cell_type": "markdown",
      "source": [
        "가까울 수록 자전거를 많이 사는 것은 보이지만 가까운 경우에 가장 많은 응답자가 있어서 신뢰할 수 있는 것 같지는 않다.\n"
      ],
      "metadata": {
        "id": "f5Hb3Chr4Aff"
      }
    },
    {
      "cell_type": "code",
      "source": [
        "#Marital Status Gender          Commute Distance Purchased Bike\n",
        "print(\"자전거(anxiousness)와 성별(Gender)와의 연관관계 분석 \")\n",
        "gmodels::CrossTable(DF$`Purchased Bike`,DF$Gender,chisq=T,expected=T,prop.r=F,prop.c=F)"
      ],
      "metadata": {
        "colab": {
          "base_uri": "https://localhost:8080/"
        },
        "id": "MQIh5Qdw36w1",
        "outputId": "40408aff-a433-495d-8e7d-20b5e3f60857"
      },
      "execution_count": null,
      "outputs": [
        {
          "output_type": "stream",
          "name": "stdout",
          "text": [
            "[1] \"자전거(anxiousness)와 성별(Gender)와의 연관관계 분석 \"\n",
            "\n",
            " \n",
            "   Cell Contents\n",
            "|-------------------------|\n",
            "|                       N |\n",
            "|              Expected N |\n",
            "| Chi-square contribution |\n",
            "|         N / Table Total |\n",
            "|-------------------------|\n",
            "\n",
            " \n",
            "Total Observations in Table:  889 \n",
            "\n",
            " \n",
            "                    | DF$Gender \n",
            "DF$`Purchased Bike` |    Female |      Male | Row Total | \n",
            "--------------------|-----------|-----------|-----------|\n",
            "                 No |       218 |       238 |       456 | \n",
            "                    |   225.692 |   230.308 |           | \n",
            "                    |     0.262 |     0.257 |           | \n",
            "                    |     0.245 |     0.268 |           | \n",
            "--------------------|-----------|-----------|-----------|\n",
            "                Yes |       222 |       211 |       433 | \n",
            "                    |   214.308 |   218.692 |           | \n",
            "                    |     0.276 |     0.271 |           | \n",
            "                    |     0.250 |     0.237 |           | \n",
            "--------------------|-----------|-----------|-----------|\n",
            "       Column Total |       440 |       449 |       889 | \n",
            "--------------------|-----------|-----------|-----------|\n",
            "\n",
            " \n",
            "Statistics for All Table Factors\n",
            "\n",
            "\n",
            "Pearson's Chi-squared test \n",
            "------------------------------------------------------------\n",
            "Chi^2 =  1.065634     d.f. =  1     p =  0.3019336 \n",
            "\n",
            "Pearson's Chi-squared test with Yates' continuity correction \n",
            "------------------------------------------------------------\n",
            "Chi^2 =  0.9315954     d.f. =  1     p =  0.3344487 \n",
            "\n",
            " \n"
          ]
        }
      ]
    },
    {
      "cell_type": "markdown",
      "source": [
        "남자보다 여자가 더 자전거를 많이 타는 것으로 보인다. 하지만 그 수치가 유의미해 보이지는 않는다.\n"
      ],
      "metadata": {
        "id": "YJ3IjpbR5AoQ"
      }
    },
    {
      "cell_type": "code",
      "source": [
        "#본격적인 로지스틱 회귀 분석을 위해 패키지를 설치한다. 데이터의 80페센트를 학습 데이터(train)\n",
        "#나머지는 테스트 데이터(test)로 분리한다.\n",
        "index<-caret::createDataPartition(y=DF$`Purchased Bike`,p=0.8,list=FALSE)\n",
        "train<-DF[index,]\n",
        "test<-DF[-index,]\n",
        "\n",
        "train%>%show()\n",
        "test%>%show()"
      ],
      "metadata": {
        "colab": {
          "base_uri": "https://localhost:8080/"
        },
        "id": "YiPY_5Sa4Rnt",
        "outputId": "f905e866-3038-4f26-bc29-cb659d74c1d3"
      },
      "execution_count": null,
      "outputs": [
        {
          "output_type": "stream",
          "name": "stdout",
          "text": [
            "\u001b[90m# A tibble: 712 × 12\u001b[39m\n",
            "   `Marital Status` Gender Income Children Education     Occupation `Home Owner`\n",
            "   \u001b[3m\u001b[90m<fct>\u001b[39m\u001b[23m            \u001b[3m\u001b[90m<fct>\u001b[39m\u001b[23m   \u001b[3m\u001b[90m<int>\u001b[39m\u001b[23m    \u001b[3m\u001b[90m<int>\u001b[39m\u001b[23m \u001b[3m\u001b[90m<fct>\u001b[39m\u001b[23m         \u001b[3m\u001b[90m<fct>\u001b[39m\u001b[23m      \u001b[3m\u001b[90m<fct>\u001b[39m\u001b[23m       \n",
            "\u001b[90m 1\u001b[39m Married          Female  \u001b[4m4\u001b[24m\u001b[4m0\u001b[24m000        1 Bachelors     Skilled M… Yes         \n",
            "\u001b[90m 2\u001b[39m Married          Male    \u001b[4m3\u001b[24m\u001b[4m0\u001b[24m000        3 Partial Coll… Clerical   Yes         \n",
            "\u001b[90m 3\u001b[39m Married          Male    \u001b[4m8\u001b[24m\u001b[4m0\u001b[24m000        5 Partial Coll… Professio… No          \n",
            "\u001b[90m 4\u001b[39m Single           Male    \u001b[4m3\u001b[24m\u001b[4m0\u001b[24m000        0 Bachelors     Clerical   No          \n",
            "\u001b[90m 5\u001b[39m Married          Female  \u001b[4m1\u001b[24m\u001b[4m0\u001b[24m000        2 Partial Coll… Manual     Yes         \n",
            "\u001b[90m 6\u001b[39m Married          Male    \u001b[4m4\u001b[24m\u001b[4m0\u001b[24m000        1 Bachelors     Skilled M… Yes         \n",
            "\u001b[90m 7\u001b[39m Married          Female  \u001b[4m3\u001b[24m\u001b[4m0\u001b[24m000        3 High School   Skilled M… No          \n",
            "\u001b[90m 8\u001b[39m Married          Male    \u001b[4m4\u001b[24m\u001b[4m0\u001b[24m000        2 Partial Coll… Clerical   Yes         \n",
            "\u001b[90m 9\u001b[39m Single           Male    \u001b[4m6\u001b[24m\u001b[4m0\u001b[24m000        1 Partial Coll… Skilled M… No          \n",
            "\u001b[90m10\u001b[39m Single           Female  \u001b[4m1\u001b[24m\u001b[4m0\u001b[24m000        2 High School   Manual     Yes         \n",
            "\u001b[90m# ℹ 702 more rows\u001b[39m\n",
            "\u001b[90m# ℹ 5 more variables: Cars <int>, `Commute Distance` <chr>, Region <fct>,\u001b[39m\n",
            "\u001b[90m#   Age <int>, `Purchased Bike` <fct>\u001b[39m\n",
            "\u001b[90m# A tibble: 177 × 12\u001b[39m\n",
            "   `Marital Status` Gender Income Children Education     Occupation `Home Owner`\n",
            "   \u001b[3m\u001b[90m<fct>\u001b[39m\u001b[23m            \u001b[3m\u001b[90m<fct>\u001b[39m\u001b[23m   \u001b[3m\u001b[90m<int>\u001b[39m\u001b[23m    \u001b[3m\u001b[90m<int>\u001b[39m\u001b[23m \u001b[3m\u001b[90m<fct>\u001b[39m\u001b[23m         \u001b[3m\u001b[90m<fct>\u001b[39m\u001b[23m      \u001b[3m\u001b[90m<fct>\u001b[39m\u001b[23m       \n",
            "\u001b[90m 1\u001b[39m Single           Male    \u001b[4m3\u001b[24m\u001b[4m0\u001b[24m000        3 Partial Coll… Clerical   No          \n",
            "\u001b[90m 2\u001b[39m Single           Male    \u001b[4m4\u001b[24m\u001b[4m0\u001b[24m000        2 Partial Coll… Clerical   Yes         \n",
            "\u001b[90m 3\u001b[39m Single           Male    \u001b[4m4\u001b[24m\u001b[4m0\u001b[24m000        2 Partial Coll… Clerical   No          \n",
            "\u001b[90m 4\u001b[39m Married          Female  \u001b[4m2\u001b[24m\u001b[4m0\u001b[24m000        2 Partial Coll… Manual     Yes         \n",
            "\u001b[90m 5\u001b[39m Single           Male    \u001b[4m9\u001b[24m\u001b[4m0\u001b[24m000        5 Partial Coll… Professio… No          \n",
            "\u001b[90m 6\u001b[39m Single           Female  \u001b[4m4\u001b[24m\u001b[4m0\u001b[24m000        2 Partial Coll… Skilled M… Yes         \n",
            "\u001b[90m 7\u001b[39m Single           Female  \u001b[4m9\u001b[24m\u001b[4m0\u001b[24m000        4 High School   Management No          \n",
            "\u001b[90m 8\u001b[39m Married          Male    \u001b[4m4\u001b[24m\u001b[4m0\u001b[24m000        0 Bachelors     Clerical   Yes         \n",
            "\u001b[90m 9\u001b[39m Married          Female  \u001b[4m4\u001b[24m\u001b[4m0\u001b[24m000        1 Bachelors     Skilled M… Yes         \n",
            "\u001b[90m10\u001b[39m Married          Male    \u001b[4m6\u001b[24m\u001b[4m0\u001b[24m000        2 Bachelors     Professio… Yes         \n",
            "\u001b[90m# ℹ 167 more rows\u001b[39m\n",
            "\u001b[90m# ℹ 5 more variables: Cars <int>, `Commute Distance` <chr>, Region <fct>,\u001b[39m\n",
            "\u001b[90m#   Age <int>, `Purchased Bike` <fct>\u001b[39m\n"
          ]
        }
      ]
    },
    {
      "cell_type": "code",
      "source": [
        "print(\"glm model m\")\n",
        "\n",
        "m <- glm(formula = `Purchased Bike` ~ ., data = train, family = \"binomial\")\n",
        "summary(m)"
      ],
      "metadata": {
        "colab": {
          "base_uri": "https://localhost:8080/",
          "height": 725
        },
        "id": "z3_XarnY5a5l",
        "outputId": "1f87b98d-a27b-4e1f-c9b8-5135ce92accc"
      },
      "execution_count": null,
      "outputs": [
        {
          "output_type": "stream",
          "name": "stdout",
          "text": [
            "[1] \"glm model m\"\n"
          ]
        },
        {
          "output_type": "display_data",
          "data": {
            "text/plain": [
              "\n",
              "Call:\n",
              "glm(formula = `Purchased Bike` ~ ., family = \"binomial\", data = train)\n",
              "\n",
              "Coefficients:\n",
              "                               Estimate Std. Error z value Pr(>|z|)    \n",
              "(Intercept)                  -6.782e-01  5.645e-01  -1.201  0.22959    \n",
              "`Marital Status`Single        8.222e-01  1.872e-01   4.393 1.12e-05 ***\n",
              "GenderMale                    9.021e-03  1.657e-01   0.054  0.95658    \n",
              "Income                        6.754e-06  5.288e-06   1.277  0.20152    \n",
              "Children                     -1.362e-01  6.595e-02  -2.065  0.03897 *  \n",
              "EducationGraduate Degree     -4.215e-01  2.624e-01  -1.607  0.10812    \n",
              "EducationHigh School          2.274e-02  3.072e-01   0.074  0.94099    \n",
              "EducationPartial College     -2.464e-01  2.621e-01  -0.940  0.34717    \n",
              "EducationPartial High School -5.671e-01  4.389e-01  -1.292  0.19626    \n",
              "OccupationManagement          1.784e-01  5.115e-01   0.349  0.72729    \n",
              "OccupationManual             -1.138e-01  3.347e-01  -0.340  0.73376    \n",
              "OccupationProfessional        8.442e-01  3.997e-01   2.112  0.03466 *  \n",
              "OccupationSkilled Manual      2.452e-01  3.200e-01   0.766  0.44355    \n",
              "`Home Owner`Yes               4.817e-01  2.068e-01   2.329  0.01986 *  \n",
              "Cars                         -3.367e-01  1.245e-01  -2.704  0.00685 ** \n",
              "`Commute Distance`1-2 Miles  -4.481e-01  2.502e-01  -1.791  0.07329 .  \n",
              "`Commute Distance`10+ Miles  -1.711e+00  3.709e-01  -4.614 3.94e-06 ***\n",
              "`Commute Distance`2-5 Miles  -2.952e-01  2.621e-01  -1.126  0.26008    \n",
              "`Commute Distance`5-10 Miles -1.245e+00  3.079e-01  -4.042 5.30e-05 ***\n",
              "RegionNorth America           5.437e-02  2.654e-01   0.205  0.83771    \n",
              "RegionPacific                 1.017e+00  3.094e-01   3.288  0.00101 ** \n",
              "Age                           1.020e-02  9.958e-03   1.024  0.30578    \n",
              "---\n",
              "Signif. codes:  0 ‘***’ 0.001 ‘**’ 0.01 ‘*’ 0.05 ‘.’ 0.1 ‘ ’ 1\n",
              "\n",
              "(Dispersion parameter for binomial family taken to be 1)\n",
              "\n",
              "    Null deviance: 986.59  on 711  degrees of freedom\n",
              "Residual deviance: 873.31  on 690  degrees of freedom\n",
              "AIC: 917.31\n",
              "\n",
              "Number of Fisher Scoring iterations: 4\n"
            ]
          },
          "metadata": {}
        }
      ]
    },
    {
      "cell_type": "markdown",
      "source": [
        "로지스틱 회귀모형 m은 설명력이 좋은 여러개의 변수를 가지고 있는 것으로 보인다.  m 모델에서 backward 방식을 이용하여 필요 없는 설명변수를 제거하여 mback 모델을 만들고자 한다.\n"
      ],
      "metadata": {
        "id": "Hz91Qe_n5wRW"
      }
    },
    {
      "cell_type": "code",
      "source": [
        "print(\"backward model mback\")\n",
        "mback <- step(m, direction = \"backward\")"
      ],
      "metadata": {
        "colab": {
          "base_uri": "https://localhost:8080/"
        },
        "id": "p6xloOqP58RM",
        "outputId": "4727ebf9-b2ee-43c4-a499-cbe2aac68cfc"
      },
      "execution_count": null,
      "outputs": [
        {
          "output_type": "stream",
          "name": "stdout",
          "text": [
            "[1] \"backward model mback\"\n",
            "Start:  AIC=917.31\n",
            "`Purchased Bike` ~ `Marital Status` + Gender + Income + Children + \n",
            "    Education + Occupation + `Home Owner` + Cars + `Commute Distance` + \n",
            "    Region + Age\n",
            "\n",
            "                     Df Deviance    AIC\n",
            "- Education           4   878.60 914.60\n",
            "- Gender              1   873.31 915.31\n",
            "- Age                 1   874.36 916.36\n",
            "- Income              1   874.94 916.94\n",
            "<none>                    873.31 917.31\n",
            "- Occupation          4   882.74 918.74\n",
            "- Children            1   877.61 919.61\n",
            "- `Home Owner`        1   878.81 920.81\n",
            "- Cars                1   880.67 922.67\n",
            "- Region              2   890.01 930.01\n",
            "- `Marital Status`    1   893.22 935.22\n",
            "- `Commute Distance`  4   903.16 939.16\n",
            "\n",
            "Step:  AIC=914.6\n",
            "`Purchased Bike` ~ `Marital Status` + Gender + Income + Children + \n",
            "    Occupation + `Home Owner` + Cars + `Commute Distance` + Region + \n",
            "    Age\n",
            "\n",
            "                     Df Deviance    AIC\n",
            "- Gender              1   878.63 912.63\n",
            "- Income              1   879.33 913.33\n",
            "- Age                 1   879.55 913.55\n",
            "<none>                    878.60 914.60\n",
            "- Children            1   882.99 916.99\n",
            "- `Home Owner`        1   883.69 917.69\n",
            "- Occupation          4   890.34 918.34\n",
            "- Cars                1   888.34 922.34\n",
            "- Region              2   897.56 929.56\n",
            "- `Marital Status`    1   898.05 932.05\n",
            "- `Commute Distance`  4   910.01 938.01\n",
            "\n",
            "Step:  AIC=912.63\n",
            "`Purchased Bike` ~ `Marital Status` + Income + Children + Occupation + \n",
            "    `Home Owner` + Cars + `Commute Distance` + Region + Age\n",
            "\n",
            "                     Df Deviance    AIC\n",
            "- Income              1   879.36 911.36\n",
            "- Age                 1   879.58 911.58\n",
            "<none>                    878.63 912.63\n",
            "- Children            1   883.09 915.09\n",
            "- `Home Owner`        1   883.71 915.71\n",
            "- Occupation          4   890.48 916.48\n",
            "- Cars                1   888.34 920.34\n",
            "- Region              2   897.67 927.67\n",
            "- `Marital Status`    1   898.14 930.14\n",
            "- `Commute Distance`  4   910.01 936.01\n",
            "\n",
            "Step:  AIC=911.36\n",
            "`Purchased Bike` ~ `Marital Status` + Children + Occupation + \n",
            "    `Home Owner` + Cars + `Commute Distance` + Region + Age\n",
            "\n",
            "                     Df Deviance    AIC\n",
            "- Age                 1   880.00 910.00\n",
            "<none>                    879.36 911.36\n",
            "- Children            1   883.52 913.52\n",
            "- `Home Owner`        1   884.37 914.37\n",
            "- Cars                1   888.65 918.65\n",
            "- Occupation          4   900.75 924.75\n",
            "- Region              2   898.48 926.48\n",
            "- `Marital Status`    1   899.08 929.08\n",
            "- `Commute Distance`  4   911.98 935.98\n",
            "\n",
            "Step:  AIC=910\n",
            "`Purchased Bike` ~ `Marital Status` + Children + Occupation + \n",
            "    `Home Owner` + Cars + `Commute Distance` + Region\n",
            "\n",
            "                     Df Deviance    AIC\n",
            "<none>                    880.00 910.00\n",
            "- Children            1   883.56 911.56\n",
            "- `Home Owner`        1   884.78 912.78\n",
            "- Cars                1   889.41 917.41\n",
            "- Occupation          4   901.64 923.64\n",
            "- Region              2   898.89 924.89\n",
            "- `Marital Status`    1   899.12 927.12\n",
            "- `Commute Distance`  4   912.08 934.08\n"
          ]
        }
      ]
    },
    {
      "cell_type": "markdown",
      "source": [
        "4개의 변수가 삭제되고 7개의 변수만이 남았다."
      ],
      "metadata": {
        "id": "yw2xCY8X6QUq"
      }
    },
    {
      "cell_type": "code",
      "source": [
        "summary(mback)"
      ],
      "metadata": {
        "colab": {
          "base_uri": "https://localhost:8080/",
          "height": 616
        },
        "id": "ZcfHfk4z5kGS",
        "outputId": "05454eeb-0d90-4ee7-9ee9-e3b1dc4ad58d"
      },
      "execution_count": null,
      "outputs": [
        {
          "output_type": "display_data",
          "data": {
            "text/plain": [
              "\n",
              "Call:\n",
              "glm(formula = `Purchased Bike` ~ `Marital Status` + Children + \n",
              "    Occupation + `Home Owner` + Cars + `Commute Distance` + Region, \n",
              "    family = \"binomial\", data = train)\n",
              "\n",
              "Coefficients:\n",
              "                             Estimate Std. Error z value Pr(>|z|)    \n",
              "(Intercept)                  -0.23913    0.27789  -0.861  0.38951    \n",
              "`Marital Status`Single        0.77049    0.17880   4.309 1.64e-05 ***\n",
              "Children                     -0.10710    0.05688  -1.883  0.05972 .  \n",
              "OccupationManagement          0.70338    0.33827   2.079  0.03758 *  \n",
              "OccupationManual             -0.28672    0.29181  -0.983  0.32583    \n",
              "OccupationProfessional        1.21747    0.30794   3.954 7.70e-05 ***\n",
              "OccupationSkilled Manual      0.46753    0.27927   1.674  0.09411 .  \n",
              "`Home Owner`Yes               0.43953    0.20237   2.172  0.02986 *  \n",
              "Cars                         -0.31742    0.10387  -3.056  0.00224 ** \n",
              "`Commute Distance`1-2 Miles  -0.44090    0.24037  -1.834  0.06662 .  \n",
              "`Commute Distance`10+ Miles  -1.62074    0.35751  -4.533 5.80e-06 ***\n",
              "`Commute Distance`2-5 Miles  -0.23651    0.25788  -0.917  0.35907    \n",
              "`Commute Distance`5-10 Miles -1.22535    0.28241  -4.339 1.43e-05 ***\n",
              "RegionNorth America          -0.07172    0.25933  -0.277  0.78211    \n",
              "RegionPacific                 0.95722    0.30565   3.132  0.00174 ** \n",
              "---\n",
              "Signif. codes:  0 ‘***’ 0.001 ‘**’ 0.01 ‘*’ 0.05 ‘.’ 0.1 ‘ ’ 1\n",
              "\n",
              "(Dispersion parameter for binomial family taken to be 1)\n",
              "\n",
              "    Null deviance: 986.59  on 711  degrees of freedom\n",
              "Residual deviance: 880.00  on 697  degrees of freedom\n",
              "AIC: 910\n",
              "\n",
              "Number of Fisher Scoring iterations: 4\n"
            ]
          },
          "metadata": {}
        }
      ]
    },
    {
      "cell_type": "markdown",
      "source": [
        "mback 모델을 사용하여 test 데이터로 예측을 수행하여 보자."
      ],
      "metadata": {
        "id": "-4YeZlyl6zXR"
      }
    },
    {
      "cell_type": "code",
      "source": [
        "test%>%show()"
      ],
      "metadata": {
        "colab": {
          "base_uri": "https://localhost:8080/"
        },
        "id": "-yVfQjgz6WsM",
        "outputId": "b3587d03-498d-4749-8325-9263a349d1a2"
      },
      "execution_count": null,
      "outputs": [
        {
          "output_type": "stream",
          "name": "stdout",
          "text": [
            "\u001b[90m# A tibble: 177 × 12\u001b[39m\n",
            "   `Marital Status` Gender Income Children Education     Occupation `Home Owner`\n",
            "   \u001b[3m\u001b[90m<fct>\u001b[39m\u001b[23m            \u001b[3m\u001b[90m<fct>\u001b[39m\u001b[23m   \u001b[3m\u001b[90m<int>\u001b[39m\u001b[23m    \u001b[3m\u001b[90m<int>\u001b[39m\u001b[23m \u001b[3m\u001b[90m<fct>\u001b[39m\u001b[23m         \u001b[3m\u001b[90m<fct>\u001b[39m\u001b[23m      \u001b[3m\u001b[90m<fct>\u001b[39m\u001b[23m       \n",
            "\u001b[90m 1\u001b[39m Single           Male    \u001b[4m3\u001b[24m\u001b[4m0\u001b[24m000        3 Partial Coll… Clerical   No          \n",
            "\u001b[90m 2\u001b[39m Single           Male    \u001b[4m4\u001b[24m\u001b[4m0\u001b[24m000        2 Partial Coll… Clerical   Yes         \n",
            "\u001b[90m 3\u001b[39m Single           Male    \u001b[4m4\u001b[24m\u001b[4m0\u001b[24m000        2 Partial Coll… Clerical   No          \n",
            "\u001b[90m 4\u001b[39m Married          Female  \u001b[4m2\u001b[24m\u001b[4m0\u001b[24m000        2 Partial Coll… Manual     Yes         \n",
            "\u001b[90m 5\u001b[39m Single           Male    \u001b[4m9\u001b[24m\u001b[4m0\u001b[24m000        5 Partial Coll… Professio… No          \n",
            "\u001b[90m 6\u001b[39m Single           Female  \u001b[4m4\u001b[24m\u001b[4m0\u001b[24m000        2 Partial Coll… Skilled M… Yes         \n",
            "\u001b[90m 7\u001b[39m Single           Female  \u001b[4m9\u001b[24m\u001b[4m0\u001b[24m000        4 High School   Management No          \n",
            "\u001b[90m 8\u001b[39m Married          Male    \u001b[4m4\u001b[24m\u001b[4m0\u001b[24m000        0 Bachelors     Clerical   Yes         \n",
            "\u001b[90m 9\u001b[39m Married          Female  \u001b[4m4\u001b[24m\u001b[4m0\u001b[24m000        1 Bachelors     Skilled M… Yes         \n",
            "\u001b[90m10\u001b[39m Married          Male    \u001b[4m6\u001b[24m\u001b[4m0\u001b[24m000        2 Bachelors     Professio… Yes         \n",
            "\u001b[90m# ℹ 167 more rows\u001b[39m\n",
            "\u001b[90m# ℹ 5 more variables: Cars <int>, `Commute Distance` <chr>, Region <fct>,\u001b[39m\n",
            "\u001b[90m#   Age <int>, `Purchased Bike` <fct>\u001b[39m\n"
          ]
        }
      ]
    },
    {
      "cell_type": "code",
      "source": [
        "predict_value <- predict(mback,test,type=\"response\")%>%tibble(predict_value=.)\n",
        "\n",
        "predict_value%>%show()"
      ],
      "metadata": {
        "colab": {
          "base_uri": "https://localhost:8080/"
        },
        "id": "3_jnrYkD7BQB",
        "outputId": "65931dd4-ef5e-4396-d3ab-7e36778755f8"
      },
      "execution_count": null,
      "outputs": [
        {
          "output_type": "stream",
          "name": "stdout",
          "text": [
            "\u001b[90m# A tibble: 177 × 1\u001b[39m\n",
            "   predict_value\n",
            "           \u001b[3m\u001b[90m<dbl>\u001b[39m\u001b[23m\n",
            "\u001b[90m 1\u001b[39m         0.523\n",
            "\u001b[90m 2\u001b[39m         0.578\n",
            "\u001b[90m 3\u001b[39m         0.500\n",
            "\u001b[90m 4\u001b[39m         0.425\n",
            "\u001b[90m 5\u001b[39m         0.585\n",
            "\u001b[90m 6\u001b[39m         0.580\n",
            "\u001b[90m 7\u001b[39m         0.202\n",
            "\u001b[90m 8\u001b[39m         0.550\n",
            "\u001b[90m 9\u001b[39m         0.637\n",
            "\u001b[90m10\u001b[39m         0.833\n",
            "\u001b[90m# ℹ 167 more rows\u001b[39m\n"
          ]
        }
      ]
    },
    {
      "cell_type": "code",
      "source": [
        "predict_check <- test %>%select(`Purchased Bike`) %>% dplyr::bind_cols(.,predict_value)\n",
        "predict_check %>%show()"
      ],
      "metadata": {
        "colab": {
          "base_uri": "https://localhost:8080/"
        },
        "id": "lNsikF3u7F0a",
        "outputId": "72f8f0c3-05bc-4f15-95fd-e815a2545697"
      },
      "execution_count": null,
      "outputs": [
        {
          "output_type": "stream",
          "name": "stdout",
          "text": [
            "\u001b[90m# A tibble: 177 × 2\u001b[39m\n",
            "   `Purchased Bike` predict_value\n",
            "   \u001b[3m\u001b[90m<fct>\u001b[39m\u001b[23m                    \u001b[3m\u001b[90m<dbl>\u001b[39m\u001b[23m\n",
            "\u001b[90m 1\u001b[39m Yes                      0.523\n",
            "\u001b[90m 2\u001b[39m Yes                      0.578\n",
            "\u001b[90m 3\u001b[39m No                       0.500\n",
            "\u001b[90m 4\u001b[39m No                       0.425\n",
            "\u001b[90m 5\u001b[39m Yes                      0.585\n",
            "\u001b[90m 6\u001b[39m Yes                      0.580\n",
            "\u001b[90m 7\u001b[39m No                       0.202\n",
            "\u001b[90m 8\u001b[39m Yes                      0.550\n",
            "\u001b[90m 9\u001b[39m Yes                      0.637\n",
            "\u001b[90m10\u001b[39m Yes                      0.833\n",
            "\u001b[90m# ℹ 167 more rows\u001b[39m\n"
          ]
        }
      ]
    },
    {
      "cell_type": "markdown",
      "source": [
        "cutt off value를 ROC값으로 지정하기 위한 작업을 수행합니다."
      ],
      "metadata": {
        "id": "A1FQ2v-q7xaf"
      }
    },
    {
      "cell_type": "code",
      "source": [
        "install.packages(\"pROC\")"
      ],
      "metadata": {
        "colab": {
          "base_uri": "https://localhost:8080/"
        },
        "id": "220ojz2-7VLP",
        "outputId": "baf98efd-98e3-460f-dcbc-4d5d942d3f2a"
      },
      "execution_count": null,
      "outputs": [
        {
          "output_type": "stream",
          "name": "stderr",
          "text": [
            "Installing package into ‘/usr/local/lib/R/site-library’\n",
            "(as ‘lib’ is unspecified)\n",
            "\n"
          ]
        }
      ]
    },
    {
      "cell_type": "code",
      "source": [
        "roc_c <- pROC::roc(predict_check$`Purchased Bike`, predict_check$predict_value)\n",
        "pROC::plot.roc(roc_c,\n",
        "col=\"royalblue\",\n",
        "print.auc=TRUE,\n",
        "max.auc.polygon=TRUE,\n",
        "print.thres=TRUE, print.thres.pch=19, print.thres.col=\"red\",\n",
        "auc.polygon=TRUE,auc.polygon.col=\"#D1F2EB\")"
      ],
      "metadata": {
        "colab": {
          "base_uri": "https://localhost:8080/",
          "height": 510
        },
        "id": "-i6Gji4H786T",
        "outputId": "fbcd9e3c-583e-4256-e2cc-71a2a072d9f8"
      },
      "execution_count": null,
      "outputs": [
        {
          "output_type": "stream",
          "name": "stderr",
          "text": [
            "Setting levels: control = No, case = Yes\n",
            "\n",
            "Setting direction: controls < cases\n",
            "\n"
          ]
        },
        {
          "output_type": "display_data",
          "data": {
            "text/plain": [
              "plot without title"
            ],
            "image/png": "[encoded data removed]"
          },
          "metadata": {
            "image/png": {
              "width": 420,
              "height": 420
            }
          }
        }
      ]
    },
    {
      "cell_type": "markdown",
      "source": [
        "ROC곡선을 통해 알맞은 CUTT OFF값이 0.514인것으로 확인했습니다. CUT-OFF VALUE를 적용하여 predict_check에서 predict_biked를 설정하여 predict_cuttoff_roc에 저장하겠습니다.\n"
      ],
      "metadata": {
        "id": "FA2kHFQ_8Ks7"
      }
    },
    {
      "cell_type": "code",
      "source": [
        "pROC::coords(roc_c,\"best\",ret=\"threshold\",transpose=F)"
      ],
      "metadata": {
        "colab": {
          "base_uri": "https://localhost:8080/",
          "height": 147
        },
        "id": "euhq3Y_W8tuV",
        "outputId": "96a9b9e5-8501-4dd3-fe09-629f9e9f5ced"
      },
      "execution_count": null,
      "outputs": [
        {
          "output_type": "display_data",
          "data": {
            "text/html": [
              "<table class=\"dataframe\">\n",
              "<caption>A data.frame: 1 × 1</caption>\n",
              "<thead>\n",
              "\t<tr><th scope=col>threshold</th></tr>\n",
              "\t<tr><th scope=col>&lt;dbl&gt;</th></tr>\n",
              "</thead>\n",
              "<tbody>\n",
              "\t<tr><td>0.5136439</td></tr>\n",
              "</tbody>\n",
              "</table>\n"
            ],
            "text/markdown": "\nA data.frame: 1 × 1\n\n| threshold &lt;dbl&gt; |\n|---|\n| 0.5136439 |\n\n",
            "text/latex": "A data.frame: 1 × 1\n\\begin{tabular}{l}\n threshold\\\\\n <dbl>\\\\\n\\hline\n\t 0.5136439\\\\\n\\end{tabular}\n",
            "text/plain": [
              "  threshold\n",
              "1 0.5136439"
            ]
          },
          "metadata": {}
        }
      ]
    },
    {
      "cell_type": "code",
      "source": [
        "predict_cutoff_roc <-predict_check %>%\n",
        "  mutate(predict_biked = as.factor(ifelse(predict_value >0.5136439,\"Yes\",\"No\")))\n",
        "predict_cutoff_roc"
      ],
      "metadata": {
        "colab": {
          "base_uri": "https://localhost:8080/",
          "height": 1000
        },
        "id": "W-XvnnlU8JIZ",
        "outputId": "f9739dba-53a6-4747-e79f-90ea06e3de90"
      },
      "execution_count": null,
      "outputs": [
        {
          "output_type": "display_data",
          "data": {
            "text/html": [
              "<table class=\"dataframe\">\n",
              "<caption>A tibble: 177 × 3</caption>\n",
              "<thead>\n",
              "\t<tr><th scope=col>Purchased Bike</th><th scope=col>predict_value</th><th scope=col>predict_biked</th></tr>\n",
              "\t<tr><th scope=col>&lt;fct&gt;</th><th scope=col>&lt;dbl&gt;</th><th scope=col>&lt;fct&gt;</th></tr>\n",
              "</thead>\n",
              "<tbody>\n",
              "\t<tr><td>Yes</td><td>0.5228698</td><td>Yes</td></tr>\n",
              "\t<tr><td>Yes</td><td>0.5782981</td><td>Yes</td></tr>\n",
              "\t<tr><td>No </td><td>0.4999350</td><td>No </td></tr>\n",
              "\t<tr><td>No </td><td>0.4254288</td><td>No </td></tr>\n",
              "\t<tr><td>Yes</td><td>0.5846695</td><td>Yes</td></tr>\n",
              "\t<tr><td>Yes</td><td>0.5796278</td><td>Yes</td></tr>\n",
              "\t<tr><td>No </td><td>0.2024137</td><td>No </td></tr>\n",
              "\t<tr><td>Yes</td><td>0.5499326</td><td>Yes</td></tr>\n",
              "\t<tr><td>Yes</td><td>0.6366437</td><td>Yes</td></tr>\n",
              "\t<tr><td>Yes</td><td>0.8329877</td><td>Yes</td></tr>\n",
              "\t<tr><td>No </td><td>0.4634943</td><td>No </td></tr>\n",
              "\t<tr><td>Yes</td><td>0.5499326</td><td>Yes</td></tr>\n",
              "\t<tr><td>No </td><td>0.2385416</td><td>No </td></tr>\n",
              "\t<tr><td>Yes</td><td>0.4232865</td><td>No </td></tr>\n",
              "\t<tr><td>Yes</td><td>0.4739440</td><td>No </td></tr>\n",
              "\t<tr><td>No </td><td>0.4943569</td><td>No </td></tr>\n",
              "\t<tr><td>No </td><td>0.5533325</td><td>Yes</td></tr>\n",
              "\t<tr><td>No </td><td>0.3537212</td><td>No </td></tr>\n",
              "\t<tr><td>Yes</td><td>0.5605530</td><td>Yes</td></tr>\n",
              "\t<tr><td>Yes</td><td>0.8519412</td><td>Yes</td></tr>\n",
              "\t<tr><td>No </td><td>0.6782554</td><td>Yes</td></tr>\n",
              "\t<tr><td>Yes</td><td>0.7448223</td><td>Yes</td></tr>\n",
              "\t<tr><td>Yes</td><td>0.8518051</td><td>Yes</td></tr>\n",
              "\t<tr><td>No </td><td>0.4815053</td><td>No </td></tr>\n",
              "\t<tr><td>Yes</td><td>0.1969868</td><td>No </td></tr>\n",
              "\t<tr><td>Yes</td><td>0.2856157</td><td>No </td></tr>\n",
              "\t<tr><td>No </td><td>0.5076084</td><td>No </td></tr>\n",
              "\t<tr><td>No </td><td>0.2385416</td><td>No </td></tr>\n",
              "\t<tr><td>No </td><td>0.5785834</td><td>Yes</td></tr>\n",
              "\t<tr><td>Yes</td><td>0.5796278</td><td>Yes</td></tr>\n",
              "\t<tr><td>⋮</td><td>⋮</td><td>⋮</td></tr>\n",
              "\t<tr><td>No </td><td>0.2202885</td><td>No </td></tr>\n",
              "\t<tr><td>No </td><td>0.6198953</td><td>Yes</td></tr>\n",
              "\t<tr><td>No </td><td>0.4304286</td><td>No </td></tr>\n",
              "\t<tr><td>No </td><td>0.2766733</td><td>No </td></tr>\n",
              "\t<tr><td>No </td><td>0.3742456</td><td>No </td></tr>\n",
              "\t<tr><td>No </td><td>0.4560945</td><td>No </td></tr>\n",
              "\t<tr><td>Yes</td><td>0.1315284</td><td>No </td></tr>\n",
              "\t<tr><td>Yes</td><td>0.6996423</td><td>Yes</td></tr>\n",
              "\t<tr><td>No </td><td>0.3790706</td><td>No </td></tr>\n",
              "\t<tr><td>Yes</td><td>0.6996423</td><td>Yes</td></tr>\n",
              "\t<tr><td>No </td><td>0.6447875</td><td>Yes</td></tr>\n",
              "\t<tr><td>No </td><td>0.4660337</td><td>No </td></tr>\n",
              "\t<tr><td>Yes</td><td>0.6198953</td><td>Yes</td></tr>\n",
              "\t<tr><td>Yes</td><td>0.7359148</td><td>Yes</td></tr>\n",
              "\t<tr><td>No </td><td>0.1356468</td><td>No </td></tr>\n",
              "\t<tr><td>Yes</td><td>0.2202885</td><td>No </td></tr>\n",
              "\t<tr><td>No </td><td>0.2078664</td><td>No </td></tr>\n",
              "\t<tr><td>Yes</td><td>0.4417597</td><td>No </td></tr>\n",
              "\t<tr><td>No </td><td>0.3851596</td><td>No </td></tr>\n",
              "\t<tr><td>Yes</td><td>0.7145817</td><td>Yes</td></tr>\n",
              "\t<tr><td>No </td><td>0.2202885</td><td>No </td></tr>\n",
              "\t<tr><td>No </td><td>0.3112684</td><td>No </td></tr>\n",
              "\t<tr><td>No </td><td>0.3742456</td><td>No </td></tr>\n",
              "\t<tr><td>No </td><td>0.4378422</td><td>No </td></tr>\n",
              "\t<tr><td>No </td><td>0.5716155</td><td>Yes</td></tr>\n",
              "\t<tr><td>No </td><td>0.7123073</td><td>Yes</td></tr>\n",
              "\t<tr><td>Yes</td><td>0.2059617</td><td>No </td></tr>\n",
              "\t<tr><td>No </td><td>0.2031100</td><td>No </td></tr>\n",
              "\t<tr><td>No </td><td>0.2823118</td><td>No </td></tr>\n",
              "\t<tr><td>Yes</td><td>0.3698322</td><td>No </td></tr>\n",
              "</tbody>\n",
              "</table>\n"
            ],
            "text/markdown": "\nA tibble: 177 × 3\n\n| Purchased Bike &lt;fct&gt; | predict_value &lt;dbl&gt; | predict_biked &lt;fct&gt; |\n|---|---|---|\n| Yes | 0.5228698 | Yes |\n| Yes | 0.5782981 | Yes |\n| No  | 0.4999350 | No  |\n| No  | 0.4254288 | No  |\n| Yes | 0.5846695 | Yes |\n| Yes | 0.5796278 | Yes |\n| No  | 0.2024137 | No  |\n| Yes | 0.5499326 | Yes |\n| Yes | 0.6366437 | Yes |\n| Yes | 0.8329877 | Yes |\n| No  | 0.4634943 | No  |\n| Yes | 0.5499326 | Yes |\n| No  | 0.2385416 | No  |\n| Yes | 0.4232865 | No  |\n| Yes | 0.4739440 | No  |\n| No  | 0.4943569 | No  |\n| No  | 0.5533325 | Yes |\n| No  | 0.3537212 | No  |\n| Yes | 0.5605530 | Yes |\n| Yes | 0.8519412 | Yes |\n| No  | 0.6782554 | Yes |\n| Yes | 0.7448223 | Yes |\n| Yes | 0.8518051 | Yes |\n| No  | 0.4815053 | No  |\n| Yes | 0.1969868 | No  |\n| Yes | 0.2856157 | No  |\n| No  | 0.5076084 | No  |\n| No  | 0.2385416 | No  |\n| No  | 0.5785834 | Yes |\n| Yes | 0.5796278 | Yes |\n| ⋮ | ⋮ | ⋮ |\n| No  | 0.2202885 | No  |\n| No  | 0.6198953 | Yes |\n| No  | 0.4304286 | No  |\n| No  | 0.2766733 | No  |\n| No  | 0.3742456 | No  |\n| No  | 0.4560945 | No  |\n| Yes | 0.1315284 | No  |\n| Yes | 0.6996423 | Yes |\n| No  | 0.3790706 | No  |\n| Yes | 0.6996423 | Yes |\n| No  | 0.6447875 | Yes |\n| No  | 0.4660337 | No  |\n| Yes | 0.6198953 | Yes |\n| Yes | 0.7359148 | Yes |\n| No  | 0.1356468 | No  |\n| Yes | 0.2202885 | No  |\n| No  | 0.2078664 | No  |\n| Yes | 0.4417597 | No  |\n| No  | 0.3851596 | No  |\n| Yes | 0.7145817 | Yes |\n| No  | 0.2202885 | No  |\n| No  | 0.3112684 | No  |\n| No  | 0.3742456 | No  |\n| No  | 0.4378422 | No  |\n| No  | 0.5716155 | Yes |\n| No  | 0.7123073 | Yes |\n| Yes | 0.2059617 | No  |\n| No  | 0.2031100 | No  |\n| No  | 0.2823118 | No  |\n| Yes | 0.3698322 | No  |\n\n",
            "text/latex": "A tibble: 177 × 3\n\\begin{tabular}{lll}\n Purchased Bike & predict\\_value & predict\\_biked\\\\\n <fct> & <dbl> & <fct>\\\\\n\\hline\n\t Yes & 0.5228698 & Yes\\\\\n\t Yes & 0.5782981 & Yes\\\\\n\t No  & 0.4999350 & No \\\\\n\t No  & 0.4254288 & No \\\\\n\t Yes & 0.5846695 & Yes\\\\\n\t Yes & 0.5796278 & Yes\\\\\n\t No  & 0.2024137 & No \\\\\n\t Yes & 0.5499326 & Yes\\\\\n\t Yes & 0.6366437 & Yes\\\\\n\t Yes & 0.8329877 & Yes\\\\\n\t No  & 0.4634943 & No \\\\\n\t Yes & 0.5499326 & Yes\\\\\n\t No  & 0.2385416 & No \\\\\n\t Yes & 0.4232865 & No \\\\\n\t Yes & 0.4739440 & No \\\\\n\t No  & 0.4943569 & No \\\\\n\t No  & 0.5533325 & Yes\\\\\n\t No  & 0.3537212 & No \\\\\n\t Yes & 0.5605530 & Yes\\\\\n\t Yes & 0.8519412 & Yes\\\\\n\t No  & 0.6782554 & Yes\\\\\n\t Yes & 0.7448223 & Yes\\\\\n\t Yes & 0.8518051 & Yes\\\\\n\t No  & 0.4815053 & No \\\\\n\t Yes & 0.1969868 & No \\\\\n\t Yes & 0.2856157 & No \\\\\n\t No  & 0.5076084 & No \\\\\n\t No  & 0.2385416 & No \\\\\n\t No  & 0.5785834 & Yes\\\\\n\t Yes & 0.5796278 & Yes\\\\\n\t ⋮ & ⋮ & ⋮\\\\\n\t No  & 0.2202885 & No \\\\\n\t No  & 0.6198953 & Yes\\\\\n\t No  & 0.4304286 & No \\\\\n\t No  & 0.2766733 & No \\\\\n\t No  & 0.3742456 & No \\\\\n\t No  & 0.4560945 & No \\\\\n\t Yes & 0.1315284 & No \\\\\n\t Yes & 0.6996423 & Yes\\\\\n\t No  & 0.3790706 & No \\\\\n\t Yes & 0.6996423 & Yes\\\\\n\t No  & 0.6447875 & Yes\\\\\n\t No  & 0.4660337 & No \\\\\n\t Yes & 0.6198953 & Yes\\\\\n\t Yes & 0.7359148 & Yes\\\\\n\t No  & 0.1356468 & No \\\\\n\t Yes & 0.2202885 & No \\\\\n\t No  & 0.2078664 & No \\\\\n\t Yes & 0.4417597 & No \\\\\n\t No  & 0.3851596 & No \\\\\n\t Yes & 0.7145817 & Yes\\\\\n\t No  & 0.2202885 & No \\\\\n\t No  & 0.3112684 & No \\\\\n\t No  & 0.3742456 & No \\\\\n\t No  & 0.4378422 & No \\\\\n\t No  & 0.5716155 & Yes\\\\\n\t No  & 0.7123073 & Yes\\\\\n\t Yes & 0.2059617 & No \\\\\n\t No  & 0.2031100 & No \\\\\n\t No  & 0.2823118 & No \\\\\n\t Yes & 0.3698322 & No \\\\\n\\end{tabular}\n",
            "text/plain": [
              "    Purchased Bike predict_value predict_biked\n",
              "1   Yes            0.5228698     Yes          \n",
              "2   Yes            0.5782981     Yes          \n",
              "3   No             0.4999350     No           \n",
              "4   No             0.4254288     No           \n",
              "5   Yes            0.5846695     Yes          \n",
              "6   Yes            0.5796278     Yes          \n",
              "7   No             0.2024137     No           \n",
              "8   Yes            0.5499326     Yes          \n",
              "9   Yes            0.6366437     Yes          \n",
              "10  Yes            0.8329877     Yes          \n",
              "11  No             0.4634943     No           \n",
              "12  Yes            0.5499326     Yes          \n",
              "13  No             0.2385416     No           \n",
              "14  Yes            0.4232865     No           \n",
              "15  Yes            0.4739440     No           \n",
              "16  No             0.4943569     No           \n",
              "17  No             0.5533325     Yes          \n",
              "18  No             0.3537212     No           \n",
              "19  Yes            0.5605530     Yes          \n",
              "20  Yes            0.8519412     Yes          \n",
              "21  No             0.6782554     Yes          \n",
              "22  Yes            0.7448223     Yes          \n",
              "23  Yes            0.8518051     Yes          \n",
              "24  No             0.4815053     No           \n",
              "25  Yes            0.1969868     No           \n",
              "26  Yes            0.2856157     No           \n",
              "27  No             0.5076084     No           \n",
              "28  No             0.2385416     No           \n",
              "29  No             0.5785834     Yes          \n",
              "30  Yes            0.5796278     Yes          \n",
              "⋮   ⋮              ⋮             ⋮            \n",
              "148 No             0.2202885     No           \n",
              "149 No             0.6198953     Yes          \n",
              "150 No             0.4304286     No           \n",
              "151 No             0.2766733     No           \n",
              "152 No             0.3742456     No           \n",
              "153 No             0.4560945     No           \n",
              "154 Yes            0.1315284     No           \n",
              "155 Yes            0.6996423     Yes          \n",
              "156 No             0.3790706     No           \n",
              "157 Yes            0.6996423     Yes          \n",
              "158 No             0.6447875     Yes          \n",
              "159 No             0.4660337     No           \n",
              "160 Yes            0.6198953     Yes          \n",
              "161 Yes            0.7359148     Yes          \n",
              "162 No             0.1356468     No           \n",
              "163 Yes            0.2202885     No           \n",
              "164 No             0.2078664     No           \n",
              "165 Yes            0.4417597     No           \n",
              "166 No             0.3851596     No           \n",
              "167 Yes            0.7145817     Yes          \n",
              "168 No             0.2202885     No           \n",
              "169 No             0.3112684     No           \n",
              "170 No             0.3742456     No           \n",
              "171 No             0.4378422     No           \n",
              "172 No             0.5716155     Yes          \n",
              "173 No             0.7123073     Yes          \n",
              "174 Yes            0.2059617     No           \n",
              "175 No             0.2031100     No           \n",
              "176 No             0.2823118     No           \n",
              "177 Yes            0.3698322     No           "
            ]
          },
          "metadata": {}
        }
      ]
    },
    {
      "cell_type": "markdown",
      "source": [
        "좋은 예측력을 가진 것을 확인할 수 있습니다.마지막으로  predict_cutoff_roc`Purchased Bike`와\n",
        "\n",
        "predict_cutoff_roc predict_Survived 사이의 관계를 혼돈\n",
        "\n",
        "매트릭스를 통해 정확도 및 성능지표를 확인해 보겠습니다."
      ],
      "metadata": {
        "id": "dR6vi8q681aC"
      }
    },
    {
      "cell_type": "code",
      "source": [
        "caret::confusionMatrix(predict_cutoff_roc$`Purchased Bike`,predict_cutoff_roc$predict_biked)"
      ],
      "metadata": {
        "colab": {
          "base_uri": "https://localhost:8080/",
          "height": 507
        },
        "id": "rJziZTDD8x14",
        "outputId": "a0a29426-ec4c-468f-8252-ede07fccffa9"
      },
      "execution_count": null,
      "outputs": [
        {
          "output_type": "display_data",
          "data": {
            "text/plain": [
              "Confusion Matrix and Statistics\n",
              "\n",
              "          Reference\n",
              "Prediction No Yes\n",
              "       No  68  23\n",
              "       Yes 35  51\n",
              "                                          \n",
              "               Accuracy : 0.6723          \n",
              "                 95% CI : (0.5979, 0.7409)\n",
              "    No Information Rate : 0.5819          \n",
              "    P-Value [Acc > NIR] : 0.00849         \n",
              "                                          \n",
              "                  Kappa : 0.3416          \n",
              "                                          \n",
              " Mcnemar's Test P-Value : 0.14863         \n",
              "                                          \n",
              "            Sensitivity : 0.6602          \n",
              "            Specificity : 0.6892          \n",
              "         Pos Pred Value : 0.7473          \n",
              "         Neg Pred Value : 0.5930          \n",
              "             Prevalence : 0.5819          \n",
              "         Detection Rate : 0.3842          \n",
              "   Detection Prevalence : 0.5141          \n",
              "      Balanced Accuracy : 0.6747          \n",
              "                                          \n",
              "       'Positive' Class : No              \n",
              "                                          "
            ]
          },
          "metadata": {}
        }
      ]
    },
    {
      "cell_type": "markdown",
      "source": [
        "정확도 (Accuracy): 0.6723\n",
        "\n",
        "전체 예측 중에서 올바르게 분류한 비율로, 0.6723 또는 67.23%입니다.(TP + TN) / (TP + TN + FP + FN)\n",
        "\n",
        "민감도 (Sensitivity): 0.6602\n",
        "\n",
        "실제 양성 중에서 올바르게 양성으로 분류된 비율로, 0.6602 또는 66.02%입니다.\n",
        "\n",
        "특이도 (Specificity): 0.6892\n",
        "\n",
        "실제 음성 중에서 올바르게 음성으로 분류된 비율로, 0.6892 또는 68.92%입니다.\n",
        "\n",
        "정밀도 (Precision): 0.7473\n",
        "\n",
        "정밀도는 모델이 양성으로 예측한 샘플 중에서 실제로 양성인 샘플의 비율을 나타냅니다. TP / (TP + FP)\n",
        "\n",
        "재현율 (Recall): 0.6602\n",
        "\n",
        "재현율은 실제로 양성인 샘플 중에서 모델이 양성으로 예측한 샘플의 비율을 나타냅니다. TP / (TP + FN)\n",
        "\n",
        "따라서 자전거를 살 것인지 어느 정도 유의미한 예측을 할 수 있었습니다. 예측의 정도가 크지 않아 신뢰도가 높진 않지만 어떤 병원이나 심각한 자료 분석을 수행하는 경우가 아니기 때문에 참고 정도의 자료로 작용할 수 있을 것으로 보입니다.\n",
        "\n"
      ],
      "metadata": {
        "id": "xiyxq33V-l86"
      }
    },
    {
      "cell_type": "code",
      "source": [],
      "metadata": {
        "id": "U11bQd7l9gAM"
      },
      "execution_count": null,
      "outputs": []
    }
  ],
  "metadata": {
    "accelerator": "GPU",
    "colab": {
      "provenance": [],
      "authorship_tag": "ABX9TyMjVfiPJ6y+hoLjWOFRBpSz",
      "include_colab_link": true
    },
    "kernelspec": {
      "display_name": "R",
      "name": "ir"
    },
    "language_info": {
      "name": "R"
    }
  },
  "nbformat": 4,
  "nbformat_minor": 0
}